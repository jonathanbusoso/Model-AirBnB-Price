{
 "cells": [
  {
   "cell_type": "markdown",
   "id": "c2948da6-5379-499b-a1b4-8f075e056c06",
   "metadata": {},
   "source": [
    "# Model AirBnB Price - Linear Regression"
   ]
  },
  {
   "cell_type": "markdown",
   "id": "3cf446d4-5168-4cdb-bad2-762288ebe361",
   "metadata": {},
   "source": [
    "### Jonathan Bustamante Osorio\n",
    "### July 18, 2023\n",
    "\n",
    "This project explores how features such as the number of bedrooms, room type, and guest accommodations impact AirBnB prices in Bangkok. The goal is to build and evaluate linear regression models to predict listing prices, using various transformations and additional variables to improve accuracy."
   ]
  },
  {
   "cell_type": "code",
   "execution_count": 1,
   "id": "b862a207-dc15-47b5-911c-fdc65c59dc3f",
   "metadata": {},
   "outputs": [],
   "source": [
    "import pandas as pd\n",
    "import numpy as np\n",
    "import matplotlib.pyplot as plt\n",
    "import seaborn as sns\n",
    "import statsmodels.formula.api as smf"
   ]
  },
  {
   "cell_type": "markdown",
   "id": "5116d82a-be4d-44f7-9535-6c861071d76f",
   "metadata": {},
   "source": [
    "### 1. Data Loading and Cleaning\n",
    "Here, we load the AirBnB dataset, focusing on key features: bedrooms, price, accommodates, and room_type. After loading the data, we perform basic cleaning steps, including converting price to a numeric format and handling any missing values."
   ]
  },
  {
   "cell_type": "code",
   "execution_count": 2,
   "id": "9a66b62c-d3bf-46a3-9f43-8591be36a7cc",
   "metadata": {},
   "outputs": [],
   "source": [
    "bkAirBnb = pd.read_csv(\"data/airbnb-bangkok-listings.csv.bz2\", usecols=['bedrooms', 'price', 'accommodates', 'room_type'])"
   ]
  },
  {
   "cell_type": "code",
   "execution_count": 3,
   "id": "21f35f29-6cc7-4441-ab04-5dff64856f8b",
   "metadata": {},
   "outputs": [
    {
     "data": {
      "text/html": [
       "<div>\n",
       "<style scoped>\n",
       "    .dataframe tbody tr th:only-of-type {\n",
       "        vertical-align: middle;\n",
       "    }\n",
       "\n",
       "    .dataframe tbody tr th {\n",
       "        vertical-align: top;\n",
       "    }\n",
       "\n",
       "    .dataframe thead th {\n",
       "        text-align: right;\n",
       "    }\n",
       "</style>\n",
       "<table border=\"1\" class=\"dataframe\">\n",
       "  <thead>\n",
       "    <tr style=\"text-align: right;\">\n",
       "      <th></th>\n",
       "      <th>room_type</th>\n",
       "      <th>accommodates</th>\n",
       "      <th>bedrooms</th>\n",
       "      <th>price</th>\n",
       "    </tr>\n",
       "  </thead>\n",
       "  <tbody>\n",
       "    <tr>\n",
       "      <th>16515</th>\n",
       "      <td>Entire home/apt</td>\n",
       "      <td>3</td>\n",
       "      <td>2.0</td>\n",
       "      <td>$1,199.00</td>\n",
       "    </tr>\n",
       "    <tr>\n",
       "      <th>12640</th>\n",
       "      <td>Entire home/apt</td>\n",
       "      <td>2</td>\n",
       "      <td>1.0</td>\n",
       "      <td>$900.00</td>\n",
       "    </tr>\n",
       "    <tr>\n",
       "      <th>9069</th>\n",
       "      <td>Entire home/apt</td>\n",
       "      <td>2</td>\n",
       "      <td>NaN</td>\n",
       "      <td>$525.00</td>\n",
       "    </tr>\n",
       "  </tbody>\n",
       "</table>\n",
       "</div>"
      ],
      "text/plain": [
       "             room_type  accommodates  bedrooms      price\n",
       "16515  Entire home/apt             3       2.0  $1,199.00\n",
       "12640  Entire home/apt             2       1.0    $900.00\n",
       "9069   Entire home/apt             2       NaN    $525.00"
      ]
     },
     "execution_count": 3,
     "metadata": {},
     "output_type": "execute_result"
    }
   ],
   "source": [
    "bkAirBnb.sample(3)"
   ]
  },
  {
   "cell_type": "markdown",
   "id": "536618b9-2f83-45da-9e46-18253a0874a6",
   "metadata": {},
   "source": [
    "**Convert price to numeric and drop missing values:** "
   ]
  },
  {
   "cell_type": "code",
   "execution_count": 4,
   "id": "c1375ffc-b883-4291-a432-62533631c546",
   "metadata": {},
   "outputs": [],
   "source": [
    "bkAirBnb['price'] = pd.to_numeric(bkAirBnb['price'].str.replace(r'[\\$,]', '', regex=True))\n",
    "bkAirBnb = bkAirBnb.dropna()"
   ]
  },
  {
   "cell_type": "markdown",
   "id": "6d29335c-89d7-48fd-b63d-0b2a8d2357c4",
   "metadata": {},
   "source": [
    "### 2. Data Exploration\n",
    "\n",
    "We explore the distribution of the price variable to understand whether it follows a normal distribution or requires transformation."
   ]
  },
  {
   "cell_type": "code",
   "execution_count": 5,
   "id": "b62c3335-1413-4c44-b284-71cde7bf38a6",
   "metadata": {},
   "outputs": [
    {
     "data": {
      "image/png": "[encoded data removed]",
      "text/plain": [
       "<Figure size 640x480 with 1 Axes>"
      ]
     },
     "metadata": {},
     "output_type": "display_data"
    }
   ],
   "source": [
    "_ = plt.hist(bkAirBnb[\"price\"], bins=20)"
   ]
  },
  {
   "cell_type": "markdown",
   "id": "6e6f3edb-dd67-4e1f-b660-21d27d7fb43c",
   "metadata": {},
   "source": [
    "The following data shows that this should absolutely be normalized with a log transformation since all of the data is in one bin."
   ]
  },
  {
   "cell_type": "markdown",
   "id": "e48bd9d2-3b81-4c31-afb8-3a3c1d162b95",
   "metadata": {},
   "source": [
    "### 3. Feature Engineering: Bedrooms Categories\n",
    "\n",
    "This step converts the bedrooms variable into a set of categories to make it easier to analyze price variations based on the number of bedrooms."
   ]
  },
  {
   "cell_type": "code",
   "execution_count": 24,
   "id": "bbe8abb9-4a08-4551-8e1e-de5cf2fefa02",
   "metadata": {},
   "outputs": [],
   "source": [
    "bkAirBnb[\"bedrooms2\"] = pd.cut(bkAirBnb.bedrooms,\n",
    "                           bins= [0, 1, 2, 3, 4, np.inf],\n",
    "                           labels=[\"0\", \"1\", \"2\", \"3\", \"4+\"],\n",
    "                           right=False)"
   ]
  },
  {
   "cell_type": "markdown",
   "id": "07f3d2c6-08a8-46b9-967d-4b583d934bc8",
   "metadata": {},
   "source": [
    "### 4. Linear Regression Model (Price)\n",
    "\n",
    "Run a basic linear regression model that uses the bedrooms categories to predict price."
   ]
  },
  {
   "cell_type": "code",
   "execution_count": 25,
   "id": "312d7006-f85d-42d9-aaac-58d070626a2f",
   "metadata": {},
   "outputs": [
    {
     "data": {
      "text/html": [
       "<table class=\"simpletable\">\n",
       "<caption>OLS Regression Results</caption>\n",
       "<tr>\n",
       "  <th>Dep. Variable:</th>          <td>price</td>      <th>  R-squared:         </th>  <td>   0.036</td>  \n",
       "</tr>\n",
       "<tr>\n",
       "  <th>Model:</th>                   <td>OLS</td>       <th>  Adj. R-squared:    </th>  <td>   0.035</td>  \n",
       "</tr>\n",
       "<tr>\n",
       "  <th>Method:</th>             <td>Least Squares</td>  <th>  F-statistic:       </th>  <td>   186.5</td>  \n",
       "</tr>\n",
       "<tr>\n",
       "  <th>Date:</th>             <td>Mon, 24 Jul 2023</td> <th>  Prob (F-statistic):</th>  <td>9.32e-119</td> \n",
       "</tr>\n",
       "<tr>\n",
       "  <th>Time:</th>                 <td>04:11:24</td>     <th>  Log-Likelihood:    </th> <td>-1.5589e+05</td>\n",
       "</tr>\n",
       "<tr>\n",
       "  <th>No. Observations:</th>      <td> 15200</td>      <th>  AIC:               </th>  <td>3.118e+05</td> \n",
       "</tr>\n",
       "<tr>\n",
       "  <th>Df Residuals:</th>          <td> 15196</td>      <th>  BIC:               </th>  <td>3.118e+05</td> \n",
       "</tr>\n",
       "<tr>\n",
       "  <th>Df Model:</th>              <td>     3</td>      <th>                     </th>      <td> </td>     \n",
       "</tr>\n",
       "<tr>\n",
       "  <th>Covariance Type:</th>      <td>nonrobust</td>    <th>                     </th>      <td> </td>     \n",
       "</tr>\n",
       "</table>\n",
       "<table class=\"simpletable\">\n",
       "<tr>\n",
       "           <td></td>             <th>coef</th>     <th>std err</th>      <th>t</th>      <th>P>|t|</th>  <th>[0.025</th>    <th>0.975]</th>  \n",
       "</tr>\n",
       "<tr>\n",
       "  <th>Intercept</th>          <td> 3671.9265</td> <td>   91.945</td> <td>   39.936</td> <td> 0.000</td> <td> 3491.704</td> <td> 3852.149</td>\n",
       "</tr>\n",
       "<tr>\n",
       "  <th>C(bedrooms2)[T.1]</th>  <td>-1929.6576</td> <td>  104.107</td> <td>  -18.535</td> <td> 0.000</td> <td>-2133.720</td> <td>-1725.595</td>\n",
       "</tr>\n",
       "<tr>\n",
       "  <th>C(bedrooms2)[T.2]</th>  <td> -448.6545</td> <td>  145.358</td> <td>   -3.087</td> <td> 0.002</td> <td> -733.573</td> <td> -163.736</td>\n",
       "</tr>\n",
       "<tr>\n",
       "  <th>C(bedrooms2)[T.3]</th>  <td> 1387.7093</td> <td>  239.380</td> <td>    5.797</td> <td> 0.000</td> <td>  918.495</td> <td> 1856.923</td>\n",
       "</tr>\n",
       "<tr>\n",
       "  <th>C(bedrooms2)[T.4+]</th> <td> 4662.5293</td> <td>  267.119</td> <td>   17.455</td> <td> 0.000</td> <td> 4138.944</td> <td> 5186.114</td>\n",
       "</tr>\n",
       "</table>\n",
       "<table class=\"simpletable\">\n",
       "<tr>\n",
       "  <th>Omnibus:</th>       <td>36718.532</td> <th>  Durbin-Watson:     </th>   <td>   1.874</td>   \n",
       "</tr>\n",
       "<tr>\n",
       "  <th>Prob(Omnibus):</th>  <td> 0.000</td>   <th>  Jarque-Bera (JB):  </th> <td>557010065.623</td>\n",
       "</tr>\n",
       "<tr>\n",
       "  <th>Skew:</th>           <td>25.064</td>   <th>  Prob(JB):          </th>   <td>    0.00</td>   \n",
       "</tr>\n",
       "<tr>\n",
       "  <th>Kurtosis:</th>       <td>939.470</td>  <th>  Cond. No.          </th>   <td>1.46e+15</td>   \n",
       "</tr>\n",
       "</table><br/><br/>Notes:<br/>[1] Standard Errors assume that the covariance matrix of the errors is correctly specified.<br/>[2] The smallest eigenvalue is 1.21e-26. This might indicate that there are<br/>strong multicollinearity problems or that the design matrix is singular."
      ],
      "text/plain": [
       "<class 'statsmodels.iolib.summary.Summary'>\n",
       "\"\"\"\n",
       "                            OLS Regression Results                            \n",
       "==============================================================================\n",
       "Dep. Variable:                  price   R-squared:                       0.036\n",
       "Model:                            OLS   Adj. R-squared:                  0.035\n",
       "Method:                 Least Squares   F-statistic:                     186.5\n",
       "Date:                Mon, 24 Jul 2023   Prob (F-statistic):          9.32e-119\n",
       "Time:                        04:11:24   Log-Likelihood:            -1.5589e+05\n",
       "No. Observations:               15200   AIC:                         3.118e+05\n",
       "Df Residuals:                   15196   BIC:                         3.118e+05\n",
       "Df Model:                           3                                         \n",
       "Covariance Type:            nonrobust                                         \n",
       "======================================================================================\n",
       "                         coef    std err          t      P>|t|      [0.025      0.975]\n",
       "--------------------------------------------------------------------------------------\n",
       "Intercept           3671.9265     91.945     39.936      0.000    3491.704    3852.149\n",
       "C(bedrooms2)[T.1]  -1929.6576    104.107    -18.535      0.000   -2133.720   -1725.595\n",
       "C(bedrooms2)[T.2]   -448.6545    145.358     -3.087      0.002    -733.573    -163.736\n",
       "C(bedrooms2)[T.3]   1387.7093    239.380      5.797      0.000     918.495    1856.923\n",
       "C(bedrooms2)[T.4+]  4662.5293    267.119     17.455      0.000    4138.944    5186.114\n",
       "==============================================================================\n",
       "Omnibus:                    36718.532   Durbin-Watson:                   1.874\n",
       "Prob(Omnibus):                  0.000   Jarque-Bera (JB):        557010065.623\n",
       "Skew:                          25.064   Prob(JB):                         0.00\n",
       "Kurtosis:                     939.470   Cond. No.                     1.46e+15\n",
       "==============================================================================\n",
       "\n",
       "Notes:\n",
       "[1] Standard Errors assume that the covariance matrix of the errors is correctly specified.\n",
       "[2] The smallest eigenvalue is 1.21e-26. This might indicate that there are\n",
       "strong multicollinearity problems or that the design matrix is singular.\n",
       "\"\"\""
      ]
     },
     "execution_count": 25,
     "metadata": {},
     "output_type": "execute_result"
    }
   ],
   "source": [
    "m = smf.ols(\"price ~ C(bedrooms2)\", data=bkAirBnb).fit()\n",
    "m.summary()"
   ]
  },
  {
   "cell_type": "markdown",
   "id": "ea6ce1fa-3eb1-4b62-aff2-a658d4aab287",
   "metadata": {},
   "source": [
    "The results tell us that airbnb's with 1 or 2 rooms tend to decrease in price, and 3 and above increase the price. However, since the R2 value of 0.036 is close to 0, it tells us that the price is not so dependent on these variables."
   ]
  },
  {
   "cell_type": "markdown",
   "id": "b9d087da-3fdf-47af-9e21-1edd7496386b",
   "metadata": {},
   "source": [
    "### 5. Linear Regression Model (Log Price)\n",
    "\n",
    "We log-transform the price variable and run the regression model again. This transformation usually helps improve the fit by normalizing the skewed distribution of prices."
   ]
  },
  {
   "cell_type": "code",
   "execution_count": 26,
   "id": "d450b770-2034-4af2-b4f1-e5453bd776ed",
   "metadata": {},
   "outputs": [],
   "source": [
    "bkAirBnb['log_price'] = np.log(bkAirBnb['price'], where=bkAirBnb['price']>0)"
   ]
  },
  {
   "cell_type": "code",
   "execution_count": 27,
   "id": "ea05b724-9fd1-4110-9bfa-80a2b3f5bb27",
   "metadata": {},
   "outputs": [
    {
     "data": {
      "text/html": [
       "<table class=\"simpletable\">\n",
       "<caption>OLS Regression Results</caption>\n",
       "<tr>\n",
       "  <th>Dep. Variable:</th>        <td>log_price</td>    <th>  R-squared:         </th> <td>   0.203</td> \n",
       "</tr>\n",
       "<tr>\n",
       "  <th>Model:</th>                   <td>OLS</td>       <th>  Adj. R-squared:    </th> <td>   0.203</td> \n",
       "</tr>\n",
       "<tr>\n",
       "  <th>Method:</th>             <td>Least Squares</td>  <th>  F-statistic:       </th> <td>   1293.</td> \n",
       "</tr>\n",
       "<tr>\n",
       "  <th>Date:</th>             <td>Mon, 24 Jul 2023</td> <th>  Prob (F-statistic):</th>  <td>  0.00</td>  \n",
       "</tr>\n",
       "<tr>\n",
       "  <th>Time:</th>                 <td>04:11:25</td>     <th>  Log-Likelihood:    </th> <td> -16912.</td> \n",
       "</tr>\n",
       "<tr>\n",
       "  <th>No. Observations:</th>      <td> 15200</td>      <th>  AIC:               </th> <td>3.383e+04</td>\n",
       "</tr>\n",
       "<tr>\n",
       "  <th>Df Residuals:</th>          <td> 15196</td>      <th>  BIC:               </th> <td>3.386e+04</td>\n",
       "</tr>\n",
       "<tr>\n",
       "  <th>Df Model:</th>              <td>     3</td>      <th>                     </th>     <td> </td>    \n",
       "</tr>\n",
       "<tr>\n",
       "  <th>Covariance Type:</th>      <td>nonrobust</td>    <th>                     </th>     <td> </td>    \n",
       "</tr>\n",
       "</table>\n",
       "<table class=\"simpletable\">\n",
       "<tr>\n",
       "           <td></td>             <th>coef</th>     <th>std err</th>      <th>t</th>      <th>P>|t|</th>  <th>[0.025</th>    <th>0.975]</th>  \n",
       "</tr>\n",
       "<tr>\n",
       "  <th>Intercept</th>          <td>    6.2469</td> <td>    0.010</td> <td>  635.204</td> <td> 0.000</td> <td>    6.228</td> <td>    6.266</td>\n",
       "</tr>\n",
       "<tr>\n",
       "  <th>C(bedrooms2)[T.1]</th>  <td>    0.7682</td> <td>    0.011</td> <td>   68.986</td> <td> 0.000</td> <td>    0.746</td> <td>    0.790</td>\n",
       "</tr>\n",
       "<tr>\n",
       "  <th>C(bedrooms2)[T.2]</th>  <td>    1.4462</td> <td>    0.016</td> <td>   93.020</td> <td> 0.000</td> <td>    1.416</td> <td>    1.477</td>\n",
       "</tr>\n",
       "<tr>\n",
       "  <th>C(bedrooms2)[T.3]</th>  <td>    1.8930</td> <td>    0.026</td> <td>   73.935</td> <td> 0.000</td> <td>    1.843</td> <td>    1.943</td>\n",
       "</tr>\n",
       "<tr>\n",
       "  <th>C(bedrooms2)[T.4+]</th> <td>    2.1394</td> <td>    0.029</td> <td>   74.880</td> <td> 0.000</td> <td>    2.083</td> <td>    2.195</td>\n",
       "</tr>\n",
       "</table>\n",
       "<table class=\"simpletable\">\n",
       "<tr>\n",
       "  <th>Omnibus:</th>       <td>3643.283</td> <th>  Durbin-Watson:     </th> <td>   1.643</td> \n",
       "</tr>\n",
       "<tr>\n",
       "  <th>Prob(Omnibus):</th>  <td> 0.000</td>  <th>  Jarque-Bera (JB):  </th> <td>16193.066</td>\n",
       "</tr>\n",
       "<tr>\n",
       "  <th>Skew:</th>           <td> 1.108</td>  <th>  Prob(JB):          </th> <td>    0.00</td> \n",
       "</tr>\n",
       "<tr>\n",
       "  <th>Kurtosis:</th>       <td> 7.545</td>  <th>  Cond. No.          </th> <td>1.46e+15</td> \n",
       "</tr>\n",
       "</table><br/><br/>Notes:<br/>[1] Standard Errors assume that the covariance matrix of the errors is correctly specified.<br/>[2] The smallest eigenvalue is 1.21e-26. This might indicate that there are<br/>strong multicollinearity problems or that the design matrix is singular."
      ],
      "text/plain": [
       "<class 'statsmodels.iolib.summary.Summary'>\n",
       "\"\"\"\n",
       "                            OLS Regression Results                            \n",
       "==============================================================================\n",
       "Dep. Variable:              log_price   R-squared:                       0.203\n",
       "Model:                            OLS   Adj. R-squared:                  0.203\n",
       "Method:                 Least Squares   F-statistic:                     1293.\n",
       "Date:                Mon, 24 Jul 2023   Prob (F-statistic):               0.00\n",
       "Time:                        04:11:25   Log-Likelihood:                -16912.\n",
       "No. Observations:               15200   AIC:                         3.383e+04\n",
       "Df Residuals:                   15196   BIC:                         3.386e+04\n",
       "Df Model:                           3                                         \n",
       "Covariance Type:            nonrobust                                         \n",
       "======================================================================================\n",
       "                         coef    std err          t      P>|t|      [0.025      0.975]\n",
       "--------------------------------------------------------------------------------------\n",
       "Intercept              6.2469      0.010    635.204      0.000       6.228       6.266\n",
       "C(bedrooms2)[T.1]      0.7682      0.011     68.986      0.000       0.746       0.790\n",
       "C(bedrooms2)[T.2]      1.4462      0.016     93.020      0.000       1.416       1.477\n",
       "C(bedrooms2)[T.3]      1.8930      0.026     73.935      0.000       1.843       1.943\n",
       "C(bedrooms2)[T.4+]     2.1394      0.029     74.880      0.000       2.083       2.195\n",
       "==============================================================================\n",
       "Omnibus:                     3643.283   Durbin-Watson:                   1.643\n",
       "Prob(Omnibus):                  0.000   Jarque-Bera (JB):            16193.066\n",
       "Skew:                           1.108   Prob(JB):                         0.00\n",
       "Kurtosis:                       7.545   Cond. No.                     1.46e+15\n",
       "==============================================================================\n",
       "\n",
       "Notes:\n",
       "[1] Standard Errors assume that the covariance matrix of the errors is correctly specified.\n",
       "[2] The smallest eigenvalue is 1.21e-26. This might indicate that there are\n",
       "strong multicollinearity problems or that the design matrix is singular.\n",
       "\"\"\""
      ]
     },
     "execution_count": 27,
     "metadata": {},
     "output_type": "execute_result"
    }
   ],
   "source": [
    "m = smf.ols(\"log_price ~ C(bedrooms2)\", data=bkAirBnb).fit()\n",
    "m.summary()"
   ]
  },
  {
   "cell_type": "markdown",
   "id": "27e4f441-6f7d-4f80-9f52-58884a4714cc",
   "metadata": {},
   "source": [
    "The log-transformed model provides a much better fit (R-squared value of 0.203), meaning that using log-transformed prices explains more of the variance compared to the raw price model."
   ]
  },
  {
   "cell_type": "markdown",
   "id": "e186ee5c-a2ad-4629-a37c-7dd41ad69242",
   "metadata": {},
   "source": [
    "### 6. Extended Model with Room Type and Accommodates\n",
    "\n",
    "We now add two more variables, room_type and accommodates, to our model to further improve prediction."
   ]
  },
  {
   "cell_type": "code",
   "execution_count": 28,
   "id": "bdd92a23-a9ac-45a2-bf92-d99ce54b6a93",
   "metadata": {},
   "outputs": [],
   "source": [
    "bkAirBnb[\"accommodates2\"] = pd.cut(bkAirBnb.accommodates,\n",
    "                           bins= [1, 2, 3, 4, np.inf],\n",
    "                           labels=[\"1\", \"2\", \"3\", \"4 and more\"],\n",
    "                           right=False)"
   ]
  },
  {
   "cell_type": "code",
   "execution_count": 44,
   "id": "5e512a04-333e-4db7-80a8-56a259b21e17",
   "metadata": {},
   "outputs": [
    {
     "data": {
      "text/html": [
       "<table class=\"simpletable\">\n",
       "<caption>OLS Regression Results</caption>\n",
       "<tr>\n",
       "  <th>Dep. Variable:</th>        <td>log_price</td>    <th>  R-squared:         </th> <td>   0.242</td> \n",
       "</tr>\n",
       "<tr>\n",
       "  <th>Model:</th>                   <td>OLS</td>       <th>  Adj. R-squared:    </th> <td>   0.242</td> \n",
       "</tr>\n",
       "<tr>\n",
       "  <th>Method:</th>             <td>Least Squares</td>  <th>  F-statistic:       </th> <td>   539.9</td> \n",
       "</tr>\n",
       "<tr>\n",
       "  <th>Date:</th>             <td>Mon, 24 Jul 2023</td> <th>  Prob (F-statistic):</th>  <td>  0.00</td>  \n",
       "</tr>\n",
       "<tr>\n",
       "  <th>Time:</th>                 <td>04:11:42</td>     <th>  Log-Likelihood:    </th> <td> -16531.</td> \n",
       "</tr>\n",
       "<tr>\n",
       "  <th>No. Observations:</th>      <td> 15200</td>      <th>  AIC:               </th> <td>3.308e+04</td>\n",
       "</tr>\n",
       "<tr>\n",
       "  <th>Df Residuals:</th>          <td> 15190</td>      <th>  BIC:               </th> <td>3.316e+04</td>\n",
       "</tr>\n",
       "<tr>\n",
       "  <th>Df Model:</th>              <td>     9</td>      <th>                     </th>     <td> </td>    \n",
       "</tr>\n",
       "<tr>\n",
       "  <th>Covariance Type:</th>      <td>nonrobust</td>    <th>                     </th>     <td> </td>    \n",
       "</tr>\n",
       "</table>\n",
       "<table class=\"simpletable\">\n",
       "<tr>\n",
       "                 <td></td>                   <th>coef</th>     <th>std err</th>      <th>t</th>      <th>P>|t|</th>  <th>[0.025</th>    <th>0.975]</th>  \n",
       "</tr>\n",
       "<tr>\n",
       "  <th>Intercept</th>                      <td>    6.0518</td> <td>    0.027</td> <td>  221.322</td> <td> 0.000</td> <td>    5.998</td> <td>    6.105</td>\n",
       "</tr>\n",
       "<tr>\n",
       "  <th>C(bedrooms2)[T.1]</th>              <td>    0.8489</td> <td>    0.015</td> <td>   55.783</td> <td> 0.000</td> <td>    0.819</td> <td>    0.879</td>\n",
       "</tr>\n",
       "<tr>\n",
       "  <th>C(bedrooms2)[T.2]</th>              <td>    1.3575</td> <td>    0.017</td> <td>   80.222</td> <td> 0.000</td> <td>    1.324</td> <td>    1.391</td>\n",
       "</tr>\n",
       "<tr>\n",
       "  <th>C(bedrooms2)[T.3]</th>              <td>    1.7868</td> <td>    0.026</td> <td>   67.616</td> <td> 0.000</td> <td>    1.735</td> <td>    1.839</td>\n",
       "</tr>\n",
       "<tr>\n",
       "  <th>C(bedrooms2)[T.4+]</th>             <td>    2.0585</td> <td>    0.029</td> <td>   71.089</td> <td> 0.000</td> <td>    2.002</td> <td>    2.115</td>\n",
       "</tr>\n",
       "<tr>\n",
       "  <th>C(room_type)[T.Hotel room]</th>     <td>    0.1332</td> <td>    0.028</td> <td>    4.827</td> <td> 0.000</td> <td>    0.079</td> <td>    0.187</td>\n",
       "</tr>\n",
       "<tr>\n",
       "  <th>C(room_type)[T.Private room]</th>   <td>   -0.0583</td> <td>    0.013</td> <td>   -4.528</td> <td> 0.000</td> <td>   -0.084</td> <td>   -0.033</td>\n",
       "</tr>\n",
       "<tr>\n",
       "  <th>C(room_type)[T.Shared room]</th>    <td>   -0.6869</td> <td>    0.033</td> <td>  -20.786</td> <td> 0.000</td> <td>   -0.752</td> <td>   -0.622</td>\n",
       "</tr>\n",
       "<tr>\n",
       "  <th>C(accommodates2)[T.2]</th>          <td>    0.1417</td> <td>    0.032</td> <td>    4.466</td> <td> 0.000</td> <td>    0.080</td> <td>    0.204</td>\n",
       "</tr>\n",
       "<tr>\n",
       "  <th>C(accommodates2)[T.3]</th>          <td>    0.2048</td> <td>    0.035</td> <td>    5.904</td> <td> 0.000</td> <td>    0.137</td> <td>    0.273</td>\n",
       "</tr>\n",
       "<tr>\n",
       "  <th>C(accommodates2)[T.4 and more]</th> <td>    0.3136</td> <td>    0.033</td> <td>    9.455</td> <td> 0.000</td> <td>    0.249</td> <td>    0.379</td>\n",
       "</tr>\n",
       "</table>\n",
       "<table class=\"simpletable\">\n",
       "<tr>\n",
       "  <th>Omnibus:</th>       <td>4377.153</td> <th>  Durbin-Watson:     </th> <td>   1.642</td> \n",
       "</tr>\n",
       "<tr>\n",
       "  <th>Prob(Omnibus):</th>  <td> 0.000</td>  <th>  Jarque-Bera (JB):  </th> <td>22672.783</td>\n",
       "</tr>\n",
       "<tr>\n",
       "  <th>Skew:</th>           <td> 1.295</td>  <th>  Prob(JB):          </th> <td>    0.00</td> \n",
       "</tr>\n",
       "<tr>\n",
       "  <th>Kurtosis:</th>       <td> 8.394</td>  <th>  Cond. No.          </th> <td>1.72e+15</td> \n",
       "</tr>\n",
       "</table><br/><br/>Notes:<br/>[1] Standard Errors assume that the covariance matrix of the errors is correctly specified.<br/>[2] The smallest eigenvalue is 1.16e-26. This might indicate that there are<br/>strong multicollinearity problems or that the design matrix is singular."
      ],
      "text/plain": [
       "<class 'statsmodels.iolib.summary.Summary'>\n",
       "\"\"\"\n",
       "                            OLS Regression Results                            \n",
       "==============================================================================\n",
       "Dep. Variable:              log_price   R-squared:                       0.242\n",
       "Model:                            OLS   Adj. R-squared:                  0.242\n",
       "Method:                 Least Squares   F-statistic:                     539.9\n",
       "Date:                Mon, 24 Jul 2023   Prob (F-statistic):               0.00\n",
       "Time:                        04:11:42   Log-Likelihood:                -16531.\n",
       "No. Observations:               15200   AIC:                         3.308e+04\n",
       "Df Residuals:                   15190   BIC:                         3.316e+04\n",
       "Df Model:                           9                                         \n",
       "Covariance Type:            nonrobust                                         \n",
       "==================================================================================================\n",
       "                                     coef    std err          t      P>|t|      [0.025      0.975]\n",
       "--------------------------------------------------------------------------------------------------\n",
       "Intercept                          6.0518      0.027    221.322      0.000       5.998       6.105\n",
       "C(bedrooms2)[T.1]                  0.8489      0.015     55.783      0.000       0.819       0.879\n",
       "C(bedrooms2)[T.2]                  1.3575      0.017     80.222      0.000       1.324       1.391\n",
       "C(bedrooms2)[T.3]                  1.7868      0.026     67.616      0.000       1.735       1.839\n",
       "C(bedrooms2)[T.4+]                 2.0585      0.029     71.089      0.000       2.002       2.115\n",
       "C(room_type)[T.Hotel room]         0.1332      0.028      4.827      0.000       0.079       0.187\n",
       "C(room_type)[T.Private room]      -0.0583      0.013     -4.528      0.000      -0.084      -0.033\n",
       "C(room_type)[T.Shared room]       -0.6869      0.033    -20.786      0.000      -0.752      -0.622\n",
       "C(accommodates2)[T.2]              0.1417      0.032      4.466      0.000       0.080       0.204\n",
       "C(accommodates2)[T.3]              0.2048      0.035      5.904      0.000       0.137       0.273\n",
       "C(accommodates2)[T.4 and more]     0.3136      0.033      9.455      0.000       0.249       0.379\n",
       "==============================================================================\n",
       "Omnibus:                     4377.153   Durbin-Watson:                   1.642\n",
       "Prob(Omnibus):                  0.000   Jarque-Bera (JB):            22672.783\n",
       "Skew:                           1.295   Prob(JB):                         0.00\n",
       "Kurtosis:                       8.394   Cond. No.                     1.72e+15\n",
       "==============================================================================\n",
       "\n",
       "Notes:\n",
       "[1] Standard Errors assume that the covariance matrix of the errors is correctly specified.\n",
       "[2] The smallest eigenvalue is 1.16e-26. This might indicate that there are\n",
       "strong multicollinearity problems or that the design matrix is singular.\n",
       "\"\"\""
      ]
     },
     "execution_count": 44,
     "metadata": {},
     "output_type": "execute_result"
    }
   ],
   "source": [
    "m = smf.ols(\"log_price ~ C(bedrooms2) + C(room_type) + C(accommodates2)\", data=bkAirBnb).fit()\n",
    "m.summary()"
   ]
  },
  {
   "cell_type": "markdown",
   "id": "db7a8fab-7498-42f6-b8bc-1ac18de63bff",
   "metadata": {},
   "source": [
    "This extended model shows how room type and the number of people the listing accommodates influence price. While adding these variables improves the model, the R-squared value suggests that other factors may still play a role."
   ]
  },
  {
   "cell_type": "markdown",
   "id": "c0269d7d-b437-4120-9b2f-5d99728c9ab5",
   "metadata": {},
   "source": [
    "### 7. Predicting Prices\n",
    "\n",
    "Using the extended model, we now predict the price (log-transformed) for each listing in the dataset. These predictions will be compared to the actual prices to assess model performance."
   ]
  },
  {
   "cell_type": "code",
   "execution_count": 45,
   "id": "4dcb49d0-8714-4879-97a0-1fff775f1edc",
   "metadata": {},
   "outputs": [
    {
     "data": {
      "text/plain": [
       "array([7.10549676, 6.98403336, 6.98403336, ..., 7.7229029 , 7.04236248,\n",
       "       7.10549676])"
      ]
     },
     "execution_count": 45,
     "metadata": {},
     "output_type": "execute_result"
    }
   ],
   "source": [
    "m.predict()"
   ]
  },
  {
   "cell_type": "markdown",
   "id": "5d549955-8397-4a3d-8fb0-5759d642a496",
   "metadata": {},
   "source": [
    "### 8. Model Evaluation: RMSE\n",
    "We calculate the Root Mean Squared Error (RMSE) to evaluate how close the predicted prices are to the actual prices."
   ]
  },
  {
   "cell_type": "code",
   "execution_count": 47,
   "id": "d44651e6-3a22-4356-9da2-d307757b2d75",
   "metadata": {},
   "outputs": [],
   "source": [
    "actualPrice = bkAirBnb[\"price\"]"
   ]
  },
  {
   "cell_type": "code",
   "execution_count": 48,
   "id": "e7fbe75c-4e10-4671-ac9b-f0cb9b0ea195",
   "metadata": {},
   "outputs": [],
   "source": [
    "predictedPrice = m.predict()"
   ]
  },
  {
   "cell_type": "code",
   "execution_count": 55,
   "id": "304ba2f6-770e-4a46-8eef-2a14b117ffac",
   "metadata": {},
   "outputs": [
    {
     "data": {
      "text/plain": [
       "47.714426767215066"
      ]
     },
     "execution_count": 55,
     "metadata": {},
     "output_type": "execute_result"
    }
   ],
   "source": [
    "squared_diff = np.abs(predictedPrice - actualPrice)\n",
    "mean_sd = squared_diff.mean()\n",
    "rmse = np.sqrt(mean_sd)\n",
    "rmse"
   ]
  },
  {
   "cell_type": "markdown",
   "id": "4a059ec2",
   "metadata": {},
   "source": [
    "This RMSE value indicates that, on average, the difference between the predicted and actual prices is about $47.71, meaning the model's predictions are reasonably close to the actual prices."
   ]
  },
  {
   "cell_type": "markdown",
   "id": "fd79d9d0-0376-45da-bfd3-1af84657feeb",
   "metadata": {},
   "source": [
    "### 9. Price Prediction for a Specific Listing\n",
    "Here, we manually predict the price for a 2-bedroom apartment that accommodates 4 guests using the coefficients from our model."
   ]
  },
  {
   "cell_type": "code",
   "execution_count": 67,
   "id": "e596f36d-a4b9-4ecc-af1e-d974f81d89c8",
   "metadata": {},
   "outputs": [
    {
     "data": {
      "text/plain": [
       "7.7229"
      ]
     },
     "execution_count": 67,
     "metadata": {},
     "output_type": "execute_result"
    }
   ],
   "source": [
    "b0 = 6.0518\n",
    "b1 = 1.3575\n",
    "b2 = 0.3136\n",
    "\n",
    "price = b0 + b1 + b2\n",
    "price"
   ]
  },
  {
   "cell_type": "markdown",
   "id": "75ad3d15-1943-434b-94ca-16cd1fe5e7d8",
   "metadata": {},
   "source": [
    "### 10. Comparing Predictions with Actual Data\n",
    "We compute the average log price for 2-bedroom listings that accommodate 4 guests and compare it with our manual prediction to see how close we get."
   ]
  },
  {
   "cell_type": "code",
   "execution_count": 71,
   "id": "0abf5ea7-9f51-44d9-9636-2d0c123f4bc6",
   "metadata": {},
   "outputs": [
    {
     "data": {
      "text/plain": [
       "7.728450922007445"
      ]
     },
     "execution_count": 71,
     "metadata": {},
     "output_type": "execute_result"
    }
   ],
   "source": [
    "a4 = bkAirBnb[\"accommodates\"] == 4\n",
    "br2 = bkAirBnb[\"bedrooms\"] == 2.0\n",
    "\n",
    "bkAirBnb[a4 & br2].log_price.mean()"
   ]
  },
  {
   "cell_type": "markdown",
   "id": "4de63165-79ad-429f-affc-6bbe58569c75",
   "metadata": {},
   "source": [
    "The manually predicted log price (7.7229) is almost identical to the average log price in the dataset (7.728). This shows that the model's prediction is highly accurate for this type of listing. The small difference is likely due to rounding or slight variations in the dataset."
   ]
  }
 ],
 "metadata": {
  "kernelspec": {
   "display_name": "Python 3.10.6 64-bit",
   "language": "python",
   "name": "python3"
  },
  "language_info": {
   "codemirror_mode": {
    "name": "ipython",
    "version": 3
   },
   "file_extension": ".py",
   "mimetype": "text/x-python",
   "name": "python",
   "nbconvert_exporter": "python",
   "pygments_lexer": "ipython3",
   "version": "3.12.4"
  },
  "vscode": {
   "interpreter": {
    "hash": "26de051ba29f2982a8de78e945f0abaf191376122a1563185a90213a26c5da77"
   }
  }
 },
 "nbformat": 4,
 "nbformat_minor": 5
}
